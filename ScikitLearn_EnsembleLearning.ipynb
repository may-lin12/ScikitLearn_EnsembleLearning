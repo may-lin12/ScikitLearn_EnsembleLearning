{
 "cells": [
  {
   "cell_type": "code",
   "execution_count": 1,
   "metadata": {},
   "outputs": [],
   "source": [
    "#data preprocessing\n",
    "import pandas as pd\n",
    "import numpy as np\n",
    "from sklearn.tree import DecisionTreeClassifier  \n",
    "from sklearn.ensemble import BaggingClassifier\n",
    "from sklearn.ensemble import RandomForestClassifier\n",
    "from sklearn.ensemble import AdaBoostClassifier\n",
    "from sklearn.model_selection import cross_val_score\n",
    "\n",
    "data = pd.read_csv('BreastCancer.csv')\n",
    "\n",
    "y_column = data.columns[1]\n",
    "\n",
    "data_1 = data.drop(data.columns[-1], axis = 1)\n",
    "data_2 = data_1.drop(data_1.columns[0], axis = 1)\n",
    "data_x = data_2.drop(data_2.columns[0], axis = 1)\n",
    "\n",
    "feature = []\n",
    "for i in range(len(data_x['radius_mean'])):\n",
    "    column_list = []\n",
    "    for j in data_x.columns:\n",
    "        column_list.append(data_x[j][i])\n",
    "    feature.append(column_list)\n",
    "features = np.asarray(feature)\n",
    "\n",
    "target = np.asarray(data[y_column])"
   ]
  },
  {
   "cell_type": "code",
   "execution_count": 2,
   "metadata": {},
   "outputs": [
    {
     "name": "stderr",
     "output_type": "stream",
     "text": [
      "C:\\Users\\may09\\Anaconda3\\lib\\site-packages\\sklearn\\ensemble\\forest.py:246: FutureWarning: The default value of n_estimators will change from 10 in version 0.20 to 100 in 0.22.\n",
      "  \"10 in version 0.20 to 100 in 0.22.\", FutureWarning)\n"
     ]
    }
   ],
   "source": [
    "#Decision Tree\n",
    "clf_dt = DecisionTreeClassifier() \n",
    "DecisionTree_clf = clf_dt.fit(features, target)\n",
    "\n",
    "#Bagging\n",
    "clf_bg = BaggingClassifier() \n",
    "Bagging_clf = clf_bg.fit(features, target)\n",
    "\n",
    "#Random Forest\n",
    "clf_rf = RandomForestClassifier() \n",
    "RandomForest_clf = clf_rf.fit(features, target)\n",
    "\n",
    "#Adaboost\n",
    "clf_ad = AdaBoostClassifier(n_estimators=10) \n",
    "Adaboost_clf = clf_ad.fit(features, target)"
   ]
  },
  {
   "cell_type": "code",
   "execution_count": 3,
   "metadata": {},
   "outputs": [
    {
     "name": "stdout",
     "output_type": "stream",
     "text": [
      "Decision Tree  -  Accuracy: 0.916 +/- 0.080\n",
      "Bagging  -  Accuracy: 0.949 +/- 0.059\n",
      "Random Forest  -  Accuracy: 0.949 +/- 0.039\n",
      "Adaboost  -  Accuracy: 0.944 +/- 0.053\n"
     ]
    }
   ],
   "source": [
    "classifier_list = {'Decision Tree': DecisionTree_clf, 'Bagging': Bagging_clf, 'Random Forest': RandomForest_clf, 'Adaboost': Adaboost_clf}\n",
    "\n",
    "for i in classifier_list.keys():\n",
    "    scores = cross_val_score(classifier_list[i], features, target, cv = 10)\n",
    "    print(str(i)+\"  -  Accuracy: %0.3f +/- %0.3f\" % (scores.mean(), scores.std() * 2))"
   ]
  },
  {
   "cell_type": "code",
   "execution_count": null,
   "metadata": {},
   "outputs": [],
   "source": []
  }
 ],
 "metadata": {
  "kernelspec": {
   "display_name": "Python 3",
   "language": "python",
   "name": "python3"
  },
  "language_info": {
   "codemirror_mode": {
    "name": "ipython",
    "version": 3
   },
   "file_extension": ".py",
   "mimetype": "text/x-python",
   "name": "python",
   "nbconvert_exporter": "python",
   "pygments_lexer": "ipython3",
   "version": "3.6.8"
  }
 },
 "nbformat": 4,
 "nbformat_minor": 2
}
